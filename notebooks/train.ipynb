{
 "cells": [
  {
   "cell_type": "code",
   "execution_count": 10,
   "id": "5ddfa6e2-c2e6-4822-944a-84e0b1ffeb04",
   "metadata": {},
   "outputs": [
    {
     "name": "stdout",
     "output_type": "stream",
     "text": [
      "  0%|                                                   | 0/100 [00:00<?, ?it/s]/opt/conda/lib/python3.10/site-packages/torch/nn/modules/conv.py:456: UserWarning: Plan failed with a cudnnException: CUDNN_BACKEND_EXECUTION_PLAN_DESCRIPTOR: cudnnFinalize Descriptor Failed cudnn_status: CUDNN_STATUS_NOT_SUPPORTED (Triggered internally at /opt/conda/conda-bld/pytorch_1712608935911/work/aten/src/ATen/native/cudnn/Conv_v8.cpp:919.)\n",
      "  return F.conv2d(input, weight, bias, self.stride,\n",
      "/opt/conda/lib/python3.10/site-packages/torch/autograd/graph.py:744: UserWarning: Plan failed with a cudnnException: CUDNN_BACKEND_EXECUTION_PLAN_DESCRIPTOR: cudnnFinalize Descriptor Failed cudnn_status: CUDNN_STATUS_NOT_SUPPORTED (Triggered internally at /opt/conda/conda-bld/pytorch_1712608935911/work/aten/src/ATen/native/cudnn/Conv_v8.cpp:919.)\n",
      "  return Variable._execution_engine.run_backward(  # Calls into the C++ engine to run the backward pass\n",
      "100%|█████████████████████████████████████████| 100/100 [05:59<00:00,  3.59s/it]\n"
     ]
    }
   ],
   "source": [
    "!python ../src/train.py"
   ]
  },
  {
   "cell_type": "code",
   "execution_count": 11,
   "id": "253c30bd-2328-4239-9580-87b02769a559",
   "metadata": {},
   "outputs": [
    {
     "name": "stdout",
     "output_type": "stream",
     "text": [
      "100%|████████████████████████████████████| 25000/25000 [00:39<00:00, 628.66it/s]\n",
      "latent mean: [-0.18655229 -0.20377961], std: [0.62316786 0.70554839]\n",
      "100%|████████████████████████████████████████| 500/500 [00:00<00:00, 576.72it/s]\n",
      "latent mean: [-0.18954011 -0.20878905], std: [0.62688571 0.70852239]\n"
     ]
    }
   ],
   "source": [
    "!python ../src/generate_collision.py ../checkpoints/dyn_model.pth ../data/train_collision\n",
    "!python ../src/generate_collision.py -n 500 --random_seed 10 ../checkpoints/dyn_model.pth ../data/test_collision"
   ]
  },
  {
   "cell_type": "code",
   "execution_count": null,
   "id": "a03965ef-eac9-46cb-9d72-97cbc3456ab1",
   "metadata": {},
   "outputs": [
    {
     "name": "stdout",
     "output_type": "stream",
     "text": [
      "  0%|                                                   | 0/100 [00:00<?, ?it/s]/opt/conda/lib/python3.10/site-packages/torch/autograd/graph.py:744: UserWarning: Plan failed with a cudnnException: CUDNN_BACKEND_EXECUTION_PLAN_DESCRIPTOR: cudnnFinalize Descriptor Failed cudnn_status: CUDNN_STATUS_NOT_SUPPORTED (Triggered internally at /opt/conda/conda-bld/pytorch_1712608935911/work/aten/src/ATen/native/cudnn/Conv_v8.cpp:919.)\n",
      "  return Variable._execution_engine.run_backward(  # Calls into the C++ engine to run the backward pass\n",
      "  3%|█▎                                         | 3/100 [00:26<14:23,  8.90s/it]"
     ]
    }
   ],
   "source": [
    "!python ../src/train_collision.py"
   ]
  }
 ],
 "metadata": {
  "kernelspec": {
   "display_name": "Python 3 (ipykernel)",
   "language": "python",
   "name": "python3"
  },
  "language_info": {
   "codemirror_mode": {
    "name": "ipython",
    "version": 3
   },
   "file_extension": ".py",
   "mimetype": "text/x-python",
   "name": "python",
   "nbconvert_exporter": "python",
   "pygments_lexer": "ipython3",
   "version": "3.10.14"
  }
 },
 "nbformat": 4,
 "nbformat_minor": 5
}
