{
 "cells": [
  {
   "cell_type": "code",
   "execution_count": 2,
   "id": "5ddfa6e2-c2e6-4822-944a-84e0b1ffeb04",
   "metadata": {},
   "outputs": [
    {
     "name": "stdout",
     "output_type": "stream",
     "text": [
      "  0%|                                                   | 0/100 [00:00<?, ?it/s]/code/GitHub/LSBMP_final_project/src/model.py:169: UserWarning: Using a target size (torch.Size([512, 32, 32])) that is different to the input size (torch.Size([512, 1024])). This will likely lead to incorrect results due to broadcasting. Please ensure they have the same size.\n",
      "  recon_loss = F.mse_loss(x_hat_full, x_full, reduction='mean')\n",
      "  0%|                                                   | 0/100 [00:00<?, ?it/s]\n",
      "Traceback (most recent call last):\n",
      "  File \"/code/GitHub/LSBMP_final_project/notebooks/../src/train.py\", line 96, in <module>\n",
      "    train_one_epoch(enc_dyn_net, epoch)\n",
      "  File \"/code/GitHub/LSBMP_final_project/notebooks/../src/train.py\", line 51, in train_one_epoch\n",
      "    total_loss, predict_loss_G, predict_loss_L2, recon_loss = enc_dyn_net.compute_loss(u_t, x_full, z_t, z_tplus, x_hat_full, z_hat_tplus, l2_weight)\n",
      "  File \"/code/GitHub/LSBMP_final_project/src/model.py\", line 169, in compute_loss\n",
      "    recon_loss = F.mse_loss(x_hat_full, x_full, reduction='mean')\n",
      "  File \"/opt/conda/lib/python3.10/site-packages/torch/nn/functional.py\", line 3365, in mse_loss\n",
      "    expanded_input, expanded_target = torch.broadcast_tensors(input, target)\n",
      "  File \"/opt/conda/lib/python3.10/site-packages/torch/functional.py\", line 76, in broadcast_tensors\n",
      "    return _VF.broadcast_tensors(tensors)  # type: ignore[attr-defined]\n",
      "RuntimeError: The size of tensor a (1024) must match the size of tensor b (32) at non-singleton dimension 2\n"
     ]
    }
   ],
   "source": [
    "!python ../src/train.py"
   ]
  },
  {
   "cell_type": "code",
   "execution_count": null,
   "id": "253c30bd-2328-4239-9580-87b02769a559",
   "metadata": {},
   "outputs": [],
   "source": []
  }
 ],
 "metadata": {
  "kernelspec": {
   "display_name": "Python 3 (ipykernel)",
   "language": "python",
   "name": "python3"
  },
  "language_info": {
   "codemirror_mode": {
    "name": "ipython",
    "version": 3
   },
   "file_extension": ".py",
   "mimetype": "text/x-python",
   "name": "python",
   "nbconvert_exporter": "python",
   "pygments_lexer": "ipython3",
   "version": "3.10.14"
  }
 },
 "nbformat": 4,
 "nbformat_minor": 5
}
